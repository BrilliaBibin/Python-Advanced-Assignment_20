{
  "nbformat": 4,
  "nbformat_minor": 0,
  "metadata": {
    "colab": {
      "provenance": []
    },
    "kernelspec": {
      "name": "python3",
      "display_name": "Python 3"
    },
    "language_info": {
      "name": "python"
    }
  },
  "cells": [
    {
      "cell_type": "markdown",
      "source": [
        "1. Compare and contrast the float and Decimal classes' benefits and drawbacks."
      ],
      "metadata": {
        "id": "eOSbvRpHZ1dN"
      }
    },
    {
      "cell_type": "code",
      "source": [
        "#eg of float value\n",
        "a = 0.55\n",
        "print(type(a))"
      ],
      "metadata": {
        "colab": {
          "base_uri": "https://localhost:8080/"
        },
        "id": "JQUqcKgpaigy",
        "outputId": "a80e3cb6-9132-46ce-b7f4-4f2b3a58282f"
      },
      "execution_count": 1,
      "outputs": [
        {
          "output_type": "stream",
          "name": "stdout",
          "text": [
            "<class 'float'>\n"
          ]
        }
      ]
    },
    {
      "cell_type": "markdown",
      "source": [
        "   Float objects like this one are always represented internally up to\n",
        "a certain degree of accuracy only.\n",
        "   This becomes evident when adding 0.1 to a:  "
      ],
      "metadata": {
        "id": "3oDf1E8_awJO"
      }
    },
    {
      "cell_type": "code",
      "source": [
        "print(a+0.1)"
      ],
      "metadata": {
        "colab": {
          "base_uri": "https://localhost:8080/"
        },
        "id": "X3i91j15ajKy",
        "outputId": "6acbfd80-3980-4350-ab82-394441c03145"
      },
      "execution_count": 2,
      "outputs": [
        {
          "output_type": "stream",
          "name": "stdout",
          "text": [
            "0.44999999999999996\n"
          ]
        }
      ]
    },
    {
      "cell_type": "markdown",
      "source": [
        "  The reason for this is that floats are internally represented in\n",
        "binary format;that is, a decimal number 0 < n < 1 is represented by a series of the form .For certain floating-point numbers the binary representation might involve a large number of elements or might even be an infinite series. However, given a fixed number of bits used to represent such a number—i.e., a fixed number of terms in the representation series—inaccuracies are the consequence. Other numbers can be represented perfectly and are therefore stored exactly even with a finite number of bits available."
      ],
      "metadata": {
        "id": "nZWZHnXCbLFz"
      }
    },
    {
      "cell_type": "code",
      "source": [
        "b=0.5\n",
        "print(b.as_integer_ratio()) #i.e. 0.5 is exactly represented as 1/2\n",
        "#       incase of b=0.35\n",
        "b=0.35\n",
        "print(b.as_integer_ratio()) # Here the b=0.35 is not exact"
      ],
      "metadata": {
        "colab": {
          "base_uri": "https://localhost:8080/"
        },
        "id": "3N1Tlm88bjbW",
        "outputId": "4265a1aa-9117-4746-b58d-8a8475c0432b"
      },
      "execution_count": 3,
      "outputs": [
        {
          "output_type": "stream",
          "name": "stdout",
          "text": [
            "(1, 2)\n",
            "(3152519739159347, 9007199254740992)\n"
          ]
        }
      ]
    },
    {
      "cell_type": "markdown",
      "source": [
        "  The precision is dependent on the number of bits used to represent\n",
        "the number.Hence some error can creep in. It translates 15 digits accuracy for float.\n",
        "For example, the issue can be of importance when summing over a large set of numbers.In such a situation, a certain kind and/or magnitude of representation error might,in aggregate, lead to significant deviations from a benchmark value.In order to overcome this we use the decimal module.The module decimal provides an arbitrary-precision object for floating-point numbers and several options to address precision issues when working with such numbers:"
      ],
      "metadata": {
        "id": "ECb7ooPrb36u"
      }
    },
    {
      "cell_type": "code",
      "source": [
        "import decimal\n",
        "from decimal import Decimal\n",
        "print(decimal.getcontext())\n",
        "d = Decimal(1) / Decimal (55)\n",
        "print(\"d=\",d)\n",
        "decimal.getcontext().prec = 5  # lower precision\n",
        "e=Decimal(1)/Decimal(55)\n",
        "print(\"e=\",e)"
      ],
      "metadata": {
        "colab": {
          "base_uri": "https://localhost:8080/"
        },
        "id": "5goOTDJCcF0j",
        "outputId": "c3f3ed0f-38d5-4ee7-8817-c5ee5234bee0"
      },
      "execution_count": 4,
      "outputs": [
        {
          "output_type": "stream",
          "name": "stdout",
          "text": [
            "Context(prec=28, rounding=ROUND_HALF_EVEN, Emin=-999999, Emax=999999, capitals=1, clamp=0, flags=[], traps=[InvalidOperation, DivisionByZero, Overflow])\n",
            "d= 0.01818181818181818181818181818\n",
            "e= 0.018182\n"
          ]
        }
      ]
    },
    {
      "cell_type": "markdown",
      "source": [
        "  The precision can in this way be adjusted to the exact problem at\n",
        "hand and one can operate with floating-point objects that exhibit different degrees of accuracy."
      ],
      "metadata": {
        "id": "OT_t_iYpcQo9"
      }
    },
    {
      "cell_type": "markdown",
      "source": [
        "2. Decimal('1.200') and Decimal('1.2') are two objects to consider. In what sense are these the same object? Are these just two ways of representing the exact same value, or do they correspond to different internal states?\n",
        "\n",
        "  Though they are identical value wise, internal representation or\n",
        "internal state of these two values are different, as they have decimal values of different precisions."
      ],
      "metadata": {
        "id": "xHIOvGg9cg-Q"
      }
    },
    {
      "cell_type": "code",
      "source": [
        "print(Decimal('1.200'))\n",
        "print(Decimal('1.2'))"
      ],
      "metadata": {
        "colab": {
          "base_uri": "https://localhost:8080/"
        },
        "id": "_loTrRY9c0_e",
        "outputId": "0bef9c70-63cc-470e-98a3-8bc81bff26c3"
      },
      "execution_count": 5,
      "outputs": [
        {
          "output_type": "stream",
          "name": "stdout",
          "text": [
            "1.200\n",
            "1.2\n"
          ]
        }
      ]
    },
    {
      "cell_type": "markdown",
      "source": [
        "3. What happens if the equality of Decimal('1.200') and Decimal('1.2') is checked?\n",
        "\n",
        "  It returns that the values are stored are True."
      ],
      "metadata": {
        "id": "CN_uD37sdBwB"
      }
    },
    {
      "cell_type": "code",
      "source": [
        "print(Decimal('1.200') == Decimal('1.2'))"
      ],
      "metadata": {
        "colab": {
          "base_uri": "https://localhost:8080/"
        },
        "id": "z40D55tObBhj",
        "outputId": "629a1b12-332b-4511-ccff-2ea3acc681ce"
      },
      "execution_count": 6,
      "outputs": [
        {
          "output_type": "stream",
          "name": "stdout",
          "text": [
            "True\n"
          ]
        }
      ]
    },
    {
      "cell_type": "markdown",
      "source": [
        "4. Why is it preferable to start a Decimal object with a string rather than a floating-point value?\n",
        "\n",
        "  Floating-point value is converted to Decimal format. Decimal can\n",
        "store float value with absolute precision. But when float value is given as Decimal object,it first has to be converted from floating point value which might already have rounding error.Hence it is preferable to start a Decimal object with a string.\n",
        " Example is as follows :"
      ],
      "metadata": {
        "id": "vrdZ_27EdYfm"
      }
    },
    {
      "cell_type": "code",
      "source": [
        "import decimal\n",
        "from decimal import Decimal\n",
        "a=Decimal(0.3) #0.3 is a float\n",
        "print(a) # It is not stored exactly as 0.3 but as printed.\n",
        "b=Decimal('0.3') #'0.3' is a string\n",
        "print(b) #It exactly prints 0.3, precisely, with correct precision."
      ],
      "metadata": {
        "colab": {
          "base_uri": "https://localhost:8080/"
        },
        "id": "hfdMPxrKdQm3",
        "outputId": "b895f98f-9411-439f-fcd0-3b1c79cd97d1"
      },
      "execution_count": 7,
      "outputs": [
        {
          "output_type": "stream",
          "name": "stdout",
          "text": [
            "0.299999999999999988897769753748434595763683319091796875\n",
            "0.3\n"
          ]
        }
      ]
    },
    {
      "cell_type": "markdown",
      "source": [
        "5. In an arithmetic phrase, how simple is it to combine Decimal objects with integers?"
      ],
      "metadata": {
        "id": "ewILf2Kxf8ds"
      }
    },
    {
      "cell_type": "code",
      "source": [
        "import decimal\n",
        "from decimal import Decimal\n",
        "val=2\n",
        "print(type(val))\n",
        "a=Decimal(val)\n",
        "print(a)\n",
        "b=a*Decimal(val)\n",
        "print(b)"
      ],
      "metadata": {
        "colab": {
          "base_uri": "https://localhost:8080/"
        },
        "id": "UeJmdhcfeqqI",
        "outputId": "94835166-d023-44c2-fd11-9a6628a608b3"
      },
      "execution_count": 8,
      "outputs": [
        {
          "output_type": "stream",
          "name": "stdout",
          "text": [
            "<class 'int'>\n",
            "2\n",
            "4\n"
          ]
        }
      ]
    },
    {
      "cell_type": "markdown",
      "source": [
        "6. Can Decimal objects and floating-point values be combined easily?\n",
        "\n",
        "  Arithmetic operfations like Adding,subtracting or multiplying a\n",
        "Decimal object by a floating-point value is generates an error. To do these operations, the floating point has to be converted to a Decimal object—for example, converting from a floating-point value and then rounding. Else, arithmetic operations between the two types cause runtime errors."
      ],
      "metadata": {
        "id": "WB7ey4b8gNCr"
      }
    },
    {
      "cell_type": "code",
      "source": [
        "import decimal\n",
        "from decimal import Decimal\n",
        "val=0.3\n",
        "b=Decimal(val)\n",
        "print(\"Muliplication:\",Decimal('0.2')*b ) # Multiplying a decimal object with float value converted to Decimal\n",
        "print(Decimal('0.2')*val)# Error when Decimal obeject is multiplied by a float"
      ],
      "metadata": {
        "colab": {
          "base_uri": "https://localhost:8080/",
          "height": 236
        },
        "id": "bWVyzusigFLb",
        "outputId": "490dcd83-30b1-4b06-fa16-1430c2716491"
      },
      "execution_count": 9,
      "outputs": [
        {
          "output_type": "stream",
          "name": "stdout",
          "text": [
            "Muliplication: 0.05999999999999999777955395075\n"
          ]
        },
        {
          "output_type": "error",
          "ename": "TypeError",
          "evalue": "ignored",
          "traceback": [
            "\u001b[0;31m---------------------------------------------------------------------------\u001b[0m",
            "\u001b[0;31mTypeError\u001b[0m                                 Traceback (most recent call last)",
            "\u001b[0;32m<ipython-input-9-1d4c1630b509>\u001b[0m in \u001b[0;36m<cell line: 6>\u001b[0;34m()\u001b[0m\n\u001b[1;32m      4\u001b[0m \u001b[0mb\u001b[0m\u001b[0;34m=\u001b[0m\u001b[0mDecimal\u001b[0m\u001b[0;34m(\u001b[0m\u001b[0mval\u001b[0m\u001b[0;34m)\u001b[0m\u001b[0;34m\u001b[0m\u001b[0;34m\u001b[0m\u001b[0m\n\u001b[1;32m      5\u001b[0m \u001b[0mprint\u001b[0m\u001b[0;34m(\u001b[0m\u001b[0;34m\"Muliplication:\"\u001b[0m\u001b[0;34m,\u001b[0m\u001b[0mDecimal\u001b[0m\u001b[0;34m(\u001b[0m\u001b[0;34m'0.2'\u001b[0m\u001b[0;34m)\u001b[0m\u001b[0;34m*\u001b[0m\u001b[0mb\u001b[0m \u001b[0;34m)\u001b[0m \u001b[0;31m# Multiplying a decimal object with float value converted to Decimal\u001b[0m\u001b[0;34m\u001b[0m\u001b[0;34m\u001b[0m\u001b[0m\n\u001b[0;32m----> 6\u001b[0;31m \u001b[0mprint\u001b[0m\u001b[0;34m(\u001b[0m\u001b[0mDecimal\u001b[0m\u001b[0;34m(\u001b[0m\u001b[0;34m'0.2'\u001b[0m\u001b[0;34m)\u001b[0m\u001b[0;34m*\u001b[0m\u001b[0mval\u001b[0m\u001b[0;34m)\u001b[0m\u001b[0;31m# Error when Decimal obeject is multiplied by a float\u001b[0m\u001b[0;34m\u001b[0m\u001b[0;34m\u001b[0m\u001b[0m\n\u001b[0m",
            "\u001b[0;31mTypeError\u001b[0m: unsupported operand type(s) for *: 'decimal.Decimal' and 'float'"
          ]
        }
      ]
    },
    {
      "cell_type": "markdown",
      "source": [
        "7. Using the Fraction class but not the Decimal class, give an example of a quantity that can be expressed with absolute precision."
      ],
      "metadata": {
        "id": "kvfd0skBjZnR"
      }
    },
    {
      "cell_type": "code",
      "source": [
        "from fractions import Fraction\n",
        "val=0.5\n",
        "fr=Fraction(val)\n",
        "print(fr)"
      ],
      "metadata": {
        "colab": {
          "base_uri": "https://localhost:8080/"
        },
        "id": "iMuhUxIsjjYT",
        "outputId": "7bd538e2-c938-4aef-b725-d6a1c3fe8c4e"
      },
      "execution_count": 11,
      "outputs": [
        {
          "output_type": "stream",
          "name": "stdout",
          "text": [
            "1/2\n"
          ]
        }
      ]
    },
    {
      "cell_type": "markdown",
      "source": [
        "8. Describe a quantity that can be accurately expressed by the Decimal or Fraction classes but not by a floating-point value."
      ],
      "metadata": {
        "id": "RRpejpdyju67"
      }
    },
    {
      "cell_type": "code",
      "source": [
        "d=Decimal('0.1') * Decimal('0.1')\n",
        "print(\"decimal=\",d)\n",
        "frac=Fraction('1/10') * Fraction('1/10')\n",
        "print(\"fraction=\",frac)\n",
        "fl=0.1*0.1\n",
        "print(\"float value=\",fl)"
      ],
      "metadata": {
        "colab": {
          "base_uri": "https://localhost:8080/"
        },
        "id": "hLmklcJbjk8_",
        "outputId": "2f7d752d-7dac-41c2-cd92-ca2d31bd75e4"
      },
      "execution_count": 12,
      "outputs": [
        {
          "output_type": "stream",
          "name": "stdout",
          "text": [
            "decimal= 0.01\n",
            "fraction= 1/100\n",
            "float value= 0.010000000000000002\n"
          ]
        }
      ]
    },
    {
      "cell_type": "markdown",
      "source": [
        "Q9.Consider the following two fraction objects: Fraction(1, 2) and Fraction(1, 2). (5, 10). Is the internal state of these two objects the same? Why do you think that is?"
      ],
      "metadata": {
        "id": "K2VB3TtIj4Ju"
      }
    },
    {
      "cell_type": "code",
      "source": [
        "from fractions import Fraction\n",
        "frac1=Fraction(1, 2)\n",
        "print(frac1)\n",
        "frac2=Fraction(5, 10)\n",
        "print(frac2)\n",
        "if (frac1 == frac2 ):\n",
        "    print('Fraction (1,2) and Fraction(5,10) are equal')\n",
        "#    The internal state of both are same as Fraction(5,10) is reduced to simplest form.\n",
        "#    Hence 1/2 is printed in both the cases."
      ],
      "metadata": {
        "colab": {
          "base_uri": "https://localhost:8080/"
        },
        "id": "-7o4_Jn7jzhA",
        "outputId": "7a6a1a88-7bfb-48bf-8362-51aaf518a4ce"
      },
      "execution_count": 13,
      "outputs": [
        {
          "output_type": "stream",
          "name": "stdout",
          "text": [
            "1/2\n",
            "1/2\n",
            "Fraction (1,2) and Fraction(5,10) are equal\n"
          ]
        }
      ]
    },
    {
      "cell_type": "markdown",
      "source": [
        "Q10. How do the Fraction class and the integer type (int) relate to each other? Containment or inheritance?\n",
        "\n",
        "  Fraction class and integer type(int) are related in form of a\n",
        "container.It contains two ints, one the numerator and the other the denominator."
      ],
      "metadata": {
        "id": "oFLe_nWKkKXu"
      }
    },
    {
      "cell_type": "code",
      "source": [
        "from fractions import Fraction\n",
        "\n",
        "frac = Fraction(1,2)\n",
        "print('numerator is', frac.numerator,type(frac.numerator))\n",
        "print('denominator is', frac.denominator,type(frac.numerator) )"
      ],
      "metadata": {
        "colab": {
          "base_uri": "https://localhost:8080/"
        },
        "id": "KsWcDnshkDk6",
        "outputId": "7cdc993c-78e3-4bb5-9a6d-0a99fc968cfa"
      },
      "execution_count": 14,
      "outputs": [
        {
          "output_type": "stream",
          "name": "stdout",
          "text": [
            "numerator is 1 <class 'int'>\n",
            "denominator is 2 <class 'int'>\n"
          ]
        }
      ]
    }
  ]
}